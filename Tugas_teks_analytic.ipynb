{
  "nbformat": 4,
  "nbformat_minor": 0,
  "metadata": {
    "colab": {
      "name": "Tugas_teks_analytic.ipynb",
      "provenance": [],
      "collapsed_sections": []
    },
    "kernelspec": {
      "name": "python3",
      "display_name": "Python 3"
    }
  },
  "cells": [
    {
      "cell_type": "code",
      "metadata": {
        "id": "OQQudkIMwKbX",
        "colab_type": "code",
        "colab": {}
      },
      "source": [
        "from collections import Counter"
      ],
      "execution_count": 0,
      "outputs": []
    },
    {
      "cell_type": "code",
      "metadata": {
        "id": "JvfB6y2Rs_fD",
        "colab_type": "code",
        "colab": {}
      },
      "source": [
        "import re"
      ],
      "execution_count": 0,
      "outputs": []
    },
    {
      "cell_type": "code",
      "metadata": {
        "id": "gKVgHo9Qxt0C",
        "colab_type": "code",
        "colab": {}
      },
      "source": [
        "def words(text): return re.findall(r'w+', text.lower())"
      ],
      "execution_count": 0,
      "outputs": []
    },
    {
      "cell_type": "code",
      "metadata": {
        "id": "9fzwOdeF1Uoz",
        "colab_type": "code",
        "colab": {
          "base_uri": "https://localhost:8080/",
          "height": 163
        },
        "outputId": "b7cc62ef-6bac-4a83-f1d9-7e117ed3fd05"
      },
      "source": [
        "WORDS = Counter(words(open('KataTypo.txt').read()))"
      ],
      "execution_count": 23,
      "outputs": [
        {
          "output_type": "error",
          "ename": "NameError",
          "evalue": "ignored",
          "traceback": [
            "\u001b[0;31m---------------------------------------------------------------------------\u001b[0m",
            "\u001b[0;31mNameError\u001b[0m                                 Traceback (most recent call last)",
            "\u001b[0;32m<ipython-input-23-8d1b72f41c1b>\u001b[0m in \u001b[0;36m<module>\u001b[0;34m()\u001b[0m\n\u001b[0;32m----> 1\u001b[0;31m \u001b[0mWORDS\u001b[0m \u001b[0;34m=\u001b[0m \u001b[0mCounter\u001b[0m\u001b[0;34m(\u001b[0m\u001b[0mwords\u001b[0m\u001b[0;34m(\u001b[0m\u001b[0mopen\u001b[0m\u001b[0;34m(\u001b[0m\u001b[0;34m'KataTypo.txt'\u001b[0m\u001b[0;34m)\u001b[0m\u001b[0;34m.\u001b[0m\u001b[0mread\u001b[0m\u001b[0;34m(\u001b[0m\u001b[0;34m)\u001b[0m\u001b[0;34m)\u001b[0m\u001b[0;34m)\u001b[0m\u001b[0;34m\u001b[0m\u001b[0;34m\u001b[0m\u001b[0m\n\u001b[0m",
            "\u001b[0;31mNameError\u001b[0m: name 'Counter' is not defined"
          ]
        }
      ]
    },
    {
      "cell_type": "code",
      "metadata": {
        "id": "23YaWLXVgAZb",
        "colab_type": "code",
        "colab": {
          "base_uri": "https://localhost:8080/",
          "height": 459
        },
        "outputId": "532c1cb8-c251-49dd-d997-34f052bbcb7b"
      },
      "source": [
        "regex = r\"Kata Dasar\"\n",
        "test_str = (\"a,Nomina\\n\"\n",
        "\t\"ab,Nomina\\n\"\n",
        "\t\"aba,Nomina\\n\"\n",
        "\t\"aba-aba,Nomina\\n\"\n",
        "\t\"abad,Nomina\\n\"\n",
        "\t\"abadi,Adjektiva\\n\"\n",
        "\t\"abadiah,Nomina\\n\"\n",
        "\t\"abah,Nomina\\n\"\n",
        "\t\"abai,Adjektiva\\n\"\n",
        "\t\"abaimana,Nomina\\n\"\n",
        "\t\"abaka,Nomina\\n\"\n",
        "\t\"abaktinal,Adjektiva\\n\"\n",
        "\t\"abakus,Nomina\\n\"\n",
        "\t\"abal-abal,Nomina\\n\"\n",
        "\t\"aban,Nomina\\n\"\n",
        "\t\"abang,Nomina\\n\"\n",
        "\t\"abangan,Nomina\\n\"\n",
        "\t\"abangga,Nomina\\n\"\n",
        "\t\"abar,Nomina\\n\"\n",
        "\t\"abatoar,Nomina\\n\"\n",
        "\t\"abau,Nomina\\n\"\n",
        "\t\"abdas,Verba\\n\"\n",
        "\t\"abdi,Nomina\\n\"\n",
        "\t\"abdikasi,Nomina\\n\"\n",
        "\t\"abdomen,Nomina\\n\"\n",
        "\t\"abdominal,Adjektiva\")\n",
        "\n",
        "subst = \"\"\n",
        "\n",
        "result = re.sub(regex, subst, test_str, 0, re.MULTILINE)\n",
        "\n",
        "if result:\n",
        "    print (result)"
      ],
      "execution_count": 21,
      "outputs": [
        {
          "output_type": "stream",
          "text": [
            "a,Nomina\n",
            "ab,Nomina\n",
            "aba,Nomina\n",
            "aba-aba,Nomina\n",
            "abad,Nomina\n",
            "abadi,Adjektiva\n",
            "abadiah,Nomina\n",
            "abah,Nomina\n",
            "abai,Adjektiva\n",
            "abaimana,Nomina\n",
            "abaka,Nomina\n",
            "abaktinal,Adjektiva\n",
            "abakus,Nomina\n",
            "abal-abal,Nomina\n",
            "aban,Nomina\n",
            "abang,Nomina\n",
            "abangan,Nomina\n",
            "abangga,Nomina\n",
            "abar,Nomina\n",
            "abatoar,Nomina\n",
            "abau,Nomina\n",
            "abdas,Verba\n",
            "abdi,Nomina\n",
            "abdikasi,Nomina\n",
            "abdomen,Nomina\n",
            "abdominal,Adjektiva\n"
          ],
          "name": "stdout"
        }
      ]
    }
  ]
}